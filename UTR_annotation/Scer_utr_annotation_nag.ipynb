{
 "cells": [
  {
   "cell_type": "markdown",
   "metadata": {},
   "source": [
    "## Reannotates S. cerevisiae gff using empirically discovered 3'UTRs from Nagalakshmi et al 2008. "
   ]
  },
  {
   "cell_type": "code",
   "execution_count": 28,
   "metadata": {},
   "outputs": [],
   "source": [
    "import os\n",
    "import pandas as pd\n",
    "import gffutils"
   ]
  },
  {
   "cell_type": "code",
   "execution_count": 29,
   "metadata": {},
   "outputs": [],
   "source": [
    "#these functions change the text in the attributes column after assigning a parent/child\n",
    "#relationship in a gffutils database. \n",
    "def parent_func(parent, child):\n",
    "    #print('parent_func(%r, %r)' % (parent, child))\n",
    "    parent.attributes['child'] = child.id\n",
    "    \n",
    "    return parent\n",
    "    \n",
    "def child_func(parent, child):\n",
    "    #print('child_func(%r, %r)' % (parent, child))\n",
    "    child.attributes['Parent'] = parent.id\n",
    "    \n",
    "    return child"
   ]
  },
  {
   "cell_type": "code",
   "execution_count": 30,
   "metadata": {},
   "outputs": [],
   "source": [
    "#Load original gff data and establish basis for filenames and directory for files.\n",
    "genome_assy_dir = os.path.normpath(\"/home/heineike/genomes/scer_20181114\")\n",
    "#os.path.normpath('C:\\\\Users\\\\BMH_work\\\\Google Drive\\\\UCSF\\\\ElSamad_Lab\\\\PKA\\\\Bioinformatics\\\\genome_assembly')\n",
    "\n",
    "sc_ref_base = 'saccharomyces_cerevisiae_R64-2-1_20150113' #'scer_ref_test'\n",
    "sc_ref_fn = genome_assy_dir + os.sep + sc_ref_base + '.gff'\n",
    "\n",
    "utr3p_fn = genome_assy_dir + os.sep + 'Nagalakshmi_2008_3UTRs_V64.gff3'#' Nag_gff_test'\n",
    "\n",
    "\n"
   ]
  },
  {
   "cell_type": "markdown",
   "metadata": {},
   "source": [
    "## Change chromosome name in original Scer alignment file\n",
    "\n"
   ]
  },
  {
   "cell_type": "code",
   "execution_count": 32,
   "metadata": {},
   "outputs": [],
   "source": [
    "#Loads the original gff as a database\n",
    "\n",
    "#merged_db.conn.close()    #when troubleshooting you may need to close the database before remaking it. \n",
    "\n",
    "orig_gff_db_fn = genome_assy_dir+os.sep + sc_ref_base + '.gff'\n",
    "\n",
    "orig_gff_db = gffutils.create_db(orig_gff_db_fn, dbfn=genome_assy_dir + os.sep + sc_ref_base + '_orig.db', force=True, keep_order=True, \n",
    "                        merge_strategy='merge', sort_attribute_values=True)"
   ]
  },
  {
   "cell_type": "code",
   "execution_count": 33,
   "metadata": {},
   "outputs": [
    {
     "name": "stdout",
     "output_type": "stream",
     "text": [
      "Old Chromosome name: chrmt.  New Chromosome name: Mito\n",
      "Old Chromosome name: chrIV.  New Chromosome name: IV\n",
      "Old Chromosome name: chrXIV.  New Chromosome name: XIV\n",
      "Old Chromosome name: chrXIII.  New Chromosome name: XIII\n",
      "Old Chromosome name: chrVIII.  New Chromosome name: VIII\n",
      "Old Chromosome name: chrXI.  New Chromosome name: XI\n",
      "Old Chromosome name: chrXV.  New Chromosome name: XV\n",
      "Old Chromosome name: chrX.  New Chromosome name: X\n",
      "Old Chromosome name: chrI.  New Chromosome name: I\n",
      "Old Chromosome name: chrIII.  New Chromosome name: III\n",
      "Old Chromosome name: chrXVI.  New Chromosome name: XVI\n",
      "Old Chromosome name: chrVII.  New Chromosome name: VII\n",
      "Old Chromosome name: chrXII.  New Chromosome name: XII\n",
      "Old Chromosome name: chrV.  New Chromosome name: V\n",
      "Old Chromosome name: chrVI.  New Chromosome name: VI\n",
      "Old Chromosome name: chrII.  New Chromosome name: II\n",
      "Old Chromosome name: chrIX.  New Chromosome name: IX\n"
     ]
    }
   ],
   "source": [
    "#renames all chromosomes to match the name that the SAM files from lexogen use. \n",
    "roman_numerals = ['I','II','III','IV','V','VI','VII','VIII','IX','X','XI','XII','XIII','XIV','XV','XVI']\n",
    "chromosome_rename_dict = {'chr' + num : num for num in roman_numerals} \n",
    "chromosome_rename_dict['chrmt']='Mito'\n",
    "\n",
    "for old_chr, new_chr in chromosome_rename_dict.items():\n",
    "    print('Old Chromosome name: ' + old_chr + '.  New Chromosome name: ' + new_chr)\n",
    "    orig_gff_db.execute(\"update features set seqid='{}' where seqid='{}'\".format(new_chr, old_chr))"
   ]
  },
  {
   "cell_type": "code",
   "execution_count": 34,
   "metadata": {},
   "outputs": [],
   "source": [
    "#Print to file\n",
    "with open(genome_assy_dir+os.sep + sc_ref_base + '_chr_rename.gff', 'w') as outfile:\n",
    "    outfile.write('##gff-version 3')\n",
    "    for feature in orig_gff_db.all_features():\n",
    "         print(feature,file=outfile)"
   ]
  },
  {
   "cell_type": "code",
   "execution_count": 35,
   "metadata": {},
   "outputs": [],
   "source": [
    "#after the file was printed manually removed an open quote that was contained in line 18642:\n",
    "#line = 'XIV\tSGD\tgene\t555048\t556832\t.\t+\t.\tID=YNL039W;dbxref=SGD:S000004984;Name=YNL039W;Note=Essential subunit of RNA polymerase III transcription factor (TFIIIB)%3B TFIIIB is involved in transcription of genes encoding tRNAs%2C 5S rRNA%2C U6 snRNA%2C and other small RNAs;display=Essential subunit of RNA polymerase III transcription factor (TFIIIB);Ontology_term=GO:0000126,GO:0001026,GO:0001112,GO:0001156,GO:0070896,GO:0070898;orf_classification=Verified;gene=BDP1;Alias=B\",BDP1,TFC5,TFC7,TFIIIB90,transcription factor TFIIIB subunit BDP1'\n",
    "#YNL039W, BDP1 changed B\" alias to Bprimeprime\n",
    "\n",
    "\n",
    "\n",
    "with open(genome_assy_dir+os.sep + sc_ref_base + '_chr_rename.gff', 'r') as f:\n",
    "    lines = f.readlines()\n",
    "\n",
    "with open(genome_assy_dir+os.sep + sc_ref_base + '_chr_rename.gff', 'w') as f:\n",
    "    for line in lines:\n",
    "        if 'Alias=B\"' in line:\n",
    "            line_split = line.split('Alias=B\"')\n",
    "            line = line_split[0] + 'Alias=Bprimeprime' + line_split[1]\n",
    "        f.write(line)"
   ]
  },
  {
   "cell_type": "code",
   "execution_count": 36,
   "metadata": {},
   "outputs": [],
   "source": [
    "#If the output looked good, commit\n",
    "orig_gff_db.conn.commit()"
   ]
  },
  {
   "cell_type": "markdown",
   "metadata": {},
   "source": [
    "## Add nag annotation to SGD annotation file. "
   ]
  },
  {
   "cell_type": "code",
   "execution_count": 6,
   "metadata": {},
   "outputs": [],
   "source": [
    "#merges two gtf files and outputs to new file\n",
    "\n",
    "with open(genome_assy_dir+os.sep + sc_ref_base + '_nagdata.gff', 'w') as outfile:\n",
    "    with open(sc_ref_fn) as sc_ref_file:\n",
    "        #keep first line: \n",
    "        outfile.write(sc_ref_file.readline())\n",
    "        #drop header lines\n",
    "        for jj in range(0,17):\n",
    "            #print(sc_ref_file.readline())\n",
    "            sc_ref_file.readline()\n",
    "        for line in sc_ref_file: \n",
    "            if line[0:3]=='chr':\n",
    "                outfile.write(line)\n",
    "            else: \n",
    "                break\n",
    "    #add on UTR data\n",
    "    with open(utr3p_fn) as utr3p_file:    \n",
    "        #drop header lines\n",
    "        for  jj in range(0,42):\n",
    "            #print(utr3p_file.readline())\n",
    "            utr3p_file.readline()\n",
    "        for line in utr3p_file:\n",
    "            outfile.write(line)"
   ]
  },
  {
   "cell_type": "code",
   "execution_count": 7,
   "metadata": {},
   "outputs": [],
   "source": [
    "#Loads the merged.gff as a database\n",
    "\n",
    "#merged_db.conn.close()    #when troubleshooting you may need to close the database before remaking it. \n",
    "\n",
    "merged_fn = genome_assy_dir+os.sep + sc_ref_base + '_nagdata.gff'\n",
    "\n",
    "merged_db = gffutils.create_db(merged_fn, dbfn=genome_assy_dir + os.sep + sc_ref_base + '_nagdata.db', force=True, keep_order=True, \n",
    "                        merge_strategy='merge', sort_attribute_values=True)"
   ]
  },
  {
   "cell_type": "code",
   "execution_count": null,
   "metadata": {},
   "outputs": [],
   "source": [
    "#merged_db.conn.close()    #when troubleshooting you may need to close the database before remaking it. \n",
    "\n",
    "#Makes UTRs parents\n",
    "for utr_3p in merged_db.features_of_type('three_prime_UTR'):\n",
    "    gene_id = utr_3p.id.split('_')[0]\n",
    "    #print(gene_id)\n",
    "    #print(utr_3p.id)\n",
    " \n",
    "    try:\n",
    "        merged_db.add_relation(gene_id,utr_3p, 1, child_func = child_func, parent_func=parent_func)\n",
    "#        print(utr_3p.attributes)\n",
    "    except gffutils.FeatureNotFoundError:\n",
    "        print('There is no matching orf for the 3prime UTR ' + gene_id)"
   ]
  },
  {
   "cell_type": "code",
   "execution_count": 9,
   "metadata": {},
   "outputs": [],
   "source": [
    "with open(genome_assy_dir+os.sep + sc_ref_base + '_nagdata_UTRchildren.gff', 'w') as outfile:\n",
    "    outfile.write('##gff-version 3')\n",
    "    for feature in merged_db.all_features():\n",
    "         print(feature,file=outfile)"
   ]
  },
  {
   "cell_type": "code",
   "execution_count": 12,
   "metadata": {},
   "outputs": [
    {
     "data": {
      "text/plain": [
       "0"
      ]
     },
     "execution_count": 12,
     "metadata": {},
     "output_type": "execute_result"
    }
   ],
   "source": [
    "#Uses merge_Nag_scer64.sh to \n",
    "#sort combined UTR and annotation file and then merges the coordinates of the UTR and previous gene to get new coordinates for gene. \n",
    "#with bedtools\n",
    "merge_cmd = ['/home/heineike/github/UTR_annotation/UTR_annotation/merge_Nag_scerR64.sh',\n",
    "             '/home/heineike/genomes/scer_20181114/saccharomyces_cerevisiae_R64-2-1_20150113']\n",
    "\n",
    "os.system(' '.join(merge_cmd))\n"
   ]
  },
  {
   "cell_type": "code",
   "execution_count": 13,
   "metadata": {},
   "outputs": [],
   "source": [
    "#build dict of coordinates that need to be changed\n",
    "merge_table = pd.read_table(genome_assy_dir+os.sep + sc_ref_base + '_nagdata_UTRchildren_merged', header = None)\n",
    "\n",
    "coord_change_dict = {}\n",
    "\n",
    "for row in merge_table.iterrows():\n",
    "    annotation = row[1][5]\n",
    "    annotation_ids = [item.split(\"=\")[1] for item in annotation.split(\";\") if item.split(\"=\")[0]==\"ID\"]\n",
    "    for ann_id in annotation_ids: \n",
    "        if '_' in ann_id:\n",
    "            if '3UTR' == ann_id.split('_')[1]:\n",
    "                gene_id = ann_id.split('_')[0]\n",
    "                coord_change = {}\n",
    "    \n",
    "                #for some reason the start coordinate for merged items on the + strand\n",
    "                #had one number subtracted in bedtools coord_change['start'] = row[1][1]+1\n",
    "                if row[1][3]=='+':\n",
    "                    coord_change['start'] = row[1][1]+1\n",
    "                elif row[1][3]=='-':\n",
    "                    coord_change['start'] = row[1][1]\n",
    "                coord_change['end'] = row[1][2]\n",
    "                coord_change['UTR_id'] = ann_id\n",
    "\n",
    "                coord_change_dict[gene_id] = coord_change\n",
    "\n",
    "\n",
    "#coord_change_dict"
   ]
  },
  {
   "cell_type": "code",
   "execution_count": 14,
   "metadata": {},
   "outputs": [],
   "source": [
    "#load new database that is sorted from bedtools\n",
    "#merged_sorted_db.conn.close()   #when troubleshooting may need to close database before reloading\n",
    "\n",
    "merged_sorted_fn = genome_assy_dir+os.sep + sc_ref_base + '_nagdata_UTRchildren_sorted.gff'\n",
    "\n",
    "\n",
    "merged_sorted_db = gffutils.create_db(merged_sorted_fn, dbfn=genome_assy_dir + os.sep + sc_ref_base + '_nagdata_UTRchildren_sorted.db', force=True, keep_order=True, \n",
    "                        merge_strategy='merge', sort_attribute_values=True)\n",
    "\n",
    "# merged_sorted_db.schema()\n",
    "# cursor = merged_sorted_db.execute(\"select id from features where seqid = 'I'\")\n",
    "# row = cursor.fetchone()"
   ]
  },
  {
   "cell_type": "code",
   "execution_count": 15,
   "metadata": {},
   "outputs": [
    {
     "name": "stdout",
     "output_type": "stream",
     "text": [
      "Old Chromosome name: chrmt.  New Chromosome name: Mito\n",
      "Old Chromosome name: chrIV.  New Chromosome name: IV\n",
      "Old Chromosome name: chrXIV.  New Chromosome name: XIV\n",
      "Old Chromosome name: chrXIII.  New Chromosome name: XIII\n",
      "Old Chromosome name: chrVIII.  New Chromosome name: VIII\n",
      "Old Chromosome name: chrXI.  New Chromosome name: XI\n",
      "Old Chromosome name: chrXV.  New Chromosome name: XV\n",
      "Old Chromosome name: chrX.  New Chromosome name: X\n",
      "Old Chromosome name: chrI.  New Chromosome name: I\n",
      "Old Chromosome name: chrIII.  New Chromosome name: III\n",
      "Old Chromosome name: chrXVI.  New Chromosome name: XVI\n",
      "Old Chromosome name: chrVII.  New Chromosome name: VII\n",
      "Old Chromosome name: chrXII.  New Chromosome name: XII\n",
      "Old Chromosome name: chrV.  New Chromosome name: V\n",
      "Old Chromosome name: chrVI.  New Chromosome name: VI\n",
      "Old Chromosome name: chrII.  New Chromosome name: II\n",
      "Old Chromosome name: chrIX.  New Chromosome name: IX\n"
     ]
    }
   ],
   "source": [
    "#renames all chromosomes to match the name that the SAM files from lexogen use. \n",
    "roman_numerals = ['I','II','III','IV','V','VI','VII','VIII','IX','X','XI','XII','XIII','XIV','XV','XVI']\n",
    "chromosome_rename_dict = {'chr' + num : num for num in roman_numerals} \n",
    "chromosome_rename_dict['chrmt']='Mito'\n",
    "\n",
    "for old_chr, new_chr in chromosome_rename_dict.items():\n",
    "    print('Old Chromosome name: ' + old_chr + '.  New Chromosome name: ' + new_chr)\n",
    "    merged_sorted_db.execute(\"update features set seqid='{}' where seqid='{}'\".format(new_chr, old_chr))"
   ]
  },
  {
   "cell_type": "code",
   "execution_count": 16,
   "metadata": {},
   "outputs": [
    {
     "name": "stdout",
     "output_type": "stream",
     "text": [
      "update features set end=68527 where id = 'YNL299W'\n",
      "update features set end=509280 where id = 'YMR120C'\n",
      "update features set end=818438 where id = 'YOR262W'\n",
      "update features set end=744305 where id = 'YOR212W'\n",
      "update features set end=51002 where id = 'YBL089W'\n"
     ]
    }
   ],
   "source": [
    "#Moves start and end locations for each gene per new file\n",
    "jj = 0\n",
    "for gene_id, coord_change in coord_change_dict.items():\n",
    "    new_start = coord_change['start']\n",
    "    new_end = coord_change['end']\n",
    "    #prints out update statement every 1000 iterations. \n",
    "    jj = jj + 1\n",
    "    if jj==1000:\n",
    "        print(\"update features set end={} where id = '{}'\".format(new_end,gene_id))\n",
    "        jj = jj-1000\n",
    "    merged_sorted_db.execute(\"update features set start={} where id = '{}'\".format(new_start,gene_id))\n",
    "    merged_sorted_db.execute(\"update features set end={} where id = '{}'\".format(new_end,gene_id))"
   ]
  },
  {
   "cell_type": "code",
   "execution_count": 17,
   "metadata": {},
   "outputs": [],
   "source": [
    "#Print to file\n",
    "with open(genome_assy_dir+os.sep + sc_ref_base + '_UTRs.gff', 'w') as outfile:\n",
    "    outfile.write('##gff-version 3\\n')\n",
    "    for feature in merged_sorted_db.all_features():\n",
    "         print(feature,file=outfile)\n",
    "\n",
    "#In the backup file the child tag was at the end of many of the lines.  This most recent time I ran it, \n",
    "#the child tag was in the middle. Also the size was slightly different because the backup had windows CR LF instead of unix LF"
   ]
  },
  {
   "cell_type": "code",
   "execution_count": 25,
   "metadata": {},
   "outputs": [],
   "source": [
    "#after the file was printed manually removed an open quote that was contained in line 22795:\n",
    "#line = 'XIV\tSGD\tgene\t555048\t556886\t.\t+\t.\tID=YNL039W;dbxref=SGD:S000004984;Name=YNL039W;Note=Essential subunit of RNA polymerase III transcription factor (TFIIIB)%3B TFIIIB is involved in transcription of genes encoding tRNAs%2C 5S rRNA%2C U6 snRNA%2C and other small RNAs;display=Essential subunit of RNA polymerase III transcription factor (TFIIIB);Ontology_term=GO:0000126,GO:0001026,GO:0001112,GO:0001156,GO:0070896,GO:0070898;orf_classification=Verified;child=YNL039W_3UTR;gene=BDP1;Alias=B\",BDP1,TFC5,TFC7,TFIIIB90,transcription factor TFIIIB subunit BDP1'\n",
    "#YNL039W, BDP1 changed B\" alias to Bprimeprime\n",
    "\n",
    "with open(genome_assy_dir+os.sep + sc_ref_base + '_UTRs.gff', 'r') as f:\n",
    "    lines = f.readlines()\n",
    "\n",
    "with open(genome_assy_dir+os.sep + sc_ref_base + '_UTRs.gff', 'w') as f:\n",
    "    for line in lines:\n",
    "        if 'Alias=B\"' in line:\n",
    "            line_split = line.split('Alias=B\"')\n",
    "            line = line_split[0] + 'Alias=Bprimeprime' + line_split[1]\n",
    "        f.write(line)\n",
    "\n",
    "\n",
    "    "
   ]
  },
  {
   "cell_type": "code",
   "execution_count": 18,
   "metadata": {},
   "outputs": [],
   "source": [
    "#If the output looked good, commit and print to file\n",
    "merged_sorted_db.conn.commit()"
   ]
  },
  {
   "cell_type": "code",
   "execution_count": 26,
   "metadata": {},
   "outputs": [],
   "source": [
    "#some useful commands to access / change data in gffutils. \n",
    "\n",
    "#db_id = 'YEL058W'\n",
    "#cursor = merged_db.execute('select * from features where id =\"%s\"' % db_id)\n",
    "#row = cursor.fetchone()\n",
    "#row['end']\n",
    "\n",
    "#feat = list(merged_db.features_of_type('three_prime_UTR'))[0]\n",
    "\n",
    "\n",
    "#pd.read_sql('select * from features;', merged_db.conn)\n"
   ]
  }
 ],
 "metadata": {
  "kernelspec": {
   "display_name": "Python 3",
   "language": "python",
   "name": "python3"
  },
  "language_info": {
   "codemirror_mode": {
    "name": "ipython",
    "version": 3
   },
   "file_extension": ".py",
   "mimetype": "text/x-python",
   "name": "python",
   "nbconvert_exporter": "python",
   "pygments_lexer": "ipython3",
   "version": "3.7.9"
  }
 },
 "nbformat": 4,
 "nbformat_minor": 4
}
