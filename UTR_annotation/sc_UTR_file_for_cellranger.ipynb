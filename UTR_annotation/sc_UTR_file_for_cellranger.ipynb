{
 "cells": [
  {
   "cell_type": "code",
   "execution_count": 2,
   "metadata": {},
   "outputs": [],
   "source": [
    "import os\n",
    "import pandas as pd\n",
    "#import matplotlib.pyplot as plt\n",
    "import numpy as np\n",
    "import gffutils\n",
    "#from Bio import SeqIO\n",
    "#import plotly.graph_objects as pygo\n",
    "\n",
    "os.path.normpath(\"C:\\\\Users\\\\BMH_work\\\\github\\\\yeast_esr_expression_analysis\\\\expression_data\\\\ortholog_files_regev\\\\SGD_features.tab\")\n"
   ]
  },
  {
   "cell_type": "code",
   "execution_count": 65,
   "metadata": {},
   "outputs": [],
   "source": [
    "## Id conversions\n",
    "\n",
    "#Read in orf/name file and make it a dictionary\n",
    "# SC_features_fname = os.path.normpath(data_processing_dir + \"\\ortholog_files\\\\SGD_features.tab\")\n",
    "\n",
    "SC_features_fname = os.path.normpath(\"C:\\\\Users\\\\BMH_work\\\\github\\\\yeast_esr_expression_analysis\\\\expression_data\\\\ortholog_files_regev\\\\SGD_features.tab\")\n",
    "\n",
    "SC_features = pd.read_csv(SC_features_fname, sep = '\\t', header=None)\n",
    "SC_orfs = SC_features.groupby(1).get_group('ORF')\n",
    "\n",
    "#Makes a dictionary to look up orfs by gene names.  This won't include all orfs - those without names had NaN in column 4 so \n",
    "#are presumably left out. \n",
    "#SC_orfs_lookup = dict(zip(SC_orfs[4], SC_orfs[3]))  #This dictionary might be messed up - not one to one.  \n",
    "SC_genename_lookup = dict(zip(SC_orfs[3], SC_orfs[4]))\n",
    "#SC_features_lookup = dict(zip(SC_orfs[3], SC_orfs[15]))\n",
    "\n",
    "def SC_common_name_lookup(gene, SC_genename_lookup):\n",
    "    try:  \n",
    "        SC_common_name = SC_genename_lookup[gene]\n",
    "        if isinstance(SC_common_name,float):\n",
    "            if np.isnan(SC_common_name):\n",
    "                SC_common_name = gene\n",
    "            else: \n",
    "                print('float but not nan uh oh!')\n",
    "        else: \n",
    "            SC_common_name = SC_genename_lookup[gene]\n",
    "    except KeyError: \n",
    "        SC_common_name = gene\n",
    "    \n",
    "    return SC_common_name"
   ]
  },
  {
   "cell_type": "code",
   "execution_count": 83,
   "metadata": {},
   "outputs": [],
   "source": [
    "#Create db\n",
    "genome_dir = os.path.normpath('C:/Users/BMH_work/Google Drive/Crick_LMS/external_data/genomes/scer_ref')\n",
    "\n",
    "sc_pel_max_gtf_fname = genome_dir + os.sep + 'saccharomyces_cerevisiae_R64-2-1_20150113_UTRs_pelechano_max.gff' \n",
    "sc_pel_max_gtf_db_fname = genome_dir + os.sep + 'saccharomyces_cerevisiae_R64-2-1_20150113_UTRs_pelechano_max.db'\n",
    "#sc_pel_max_gtf_db= gffutils.create_db(sc_pel_max_gtf_fname, sc_pel_max_gtf_fname)\n",
    "\n",
    "sc_pel_max_gtf_db = gffutils.FeatureDB(sc_pel_max_gtf_db_fname) \n",
    "\n",
    "fname_out_unsorted = genome_dir + os.sep + 'saccharomyces_cerevisiae_R64-2-1_20150113_UTRs_pelechano_cellranger_4FP_unsorted.gtf'\n",
    "fname_out = genome_dir + os.sep + 'saccharomyces_cerevisiae_R64-2-1_20150113_UTRs_pelechano_cellranger_4FP.gtf' "
   ]
  },
  {
   "cell_type": "code",
   "execution_count": 19,
   "metadata": {},
   "outputs": [],
   "source": [
    "feature = sc_pel_max_gtf_db['YPR195C_CDS_3pUTR.long']"
   ]
  },
  {
   "cell_type": "code",
   "execution_count": null,
   "metadata": {},
   "outputs": [],
   "source": [
    "#Iterate through CDS and make gff\n",
    "#Iterate through gene and make gff\n",
    "#Iterate through 3pUTR->Exon\n",
    "\n",
    "\n"
   ]
  },
  {
   "cell_type": "code",
   "execution_count": 85,
   "metadata": {},
   "outputs": [],
   "source": [
    "with open(fname_out_unsorted, 'w') as fout: \n",
    "    for feature in sc_pel_max_gtf_db.features_of_type('CDS_3pUTR'):\n",
    "        transcript_id = feature.attributes['ID'][0]\n",
    "        gene_id = feature.attributes['Parent'][0]\n",
    "        gene_name = SC_common_name_lookup(gene_id, SC_genename_lookup)\n",
    "        \n",
    "        attributes = 'transcript_id \"{}\"; gene_id \"{}\"; gene_name \"{}\";'.format(transcript_id, gene_id, gene_name)\n",
    "        \n",
    "        line_items= [feature.seqid,\n",
    "        feature.source,\n",
    "        'exon',\n",
    "        str(feature.start),\n",
    "        str(feature.end),\n",
    "        feature.score, \n",
    "        feature.strand,\n",
    "        str(feature.frame), \n",
    "        attributes]\n",
    "\n",
    "        line = '\\t'.join(line_items) + '\\n'\n",
    "        fout.write(line)\n",
    "    \n",
    "    for feature in sc_pel_max_gtf_db.features_of_type('CDS'):\n",
    "        transcript_id = feature.attributes['ID'][0]\n",
    "        gene_id = feature.attributes['Parent'][0].split('_')[0]\n",
    "        gene_name = SC_common_name_lookup(gene_id, SC_genename_lookup)\n",
    "        \n",
    "        attributes = 'transcript_id \"{}\"; gene_id \"{}\"; gene_name \"{}\";'.format(transcript_id, gene_id, gene_name)\n",
    "        \n",
    "        line_items= [feature.seqid,\n",
    "        feature.source,\n",
    "        feature.featuretype,\n",
    "        str(feature.start),\n",
    "        str(feature.end),\n",
    "        feature.score, \n",
    "        feature.strand,\n",
    "        str(feature.frame), \n",
    "        attributes]\n",
    "\n",
    "        line = '\\t'.join(line_items) + '\\n'\n",
    "        fout.write(line)\n",
    "\n",
    "    for feature in sc_pel_max_gtf_db.features_of_type('gene'):\n",
    "        transcript_id = feature.attributes['ID'][0]\n",
    "        gene_id = transcript_id\n",
    "        gene_name = SC_common_name_lookup(gene_id, SC_genename_lookup)\n",
    "        \n",
    "        attributes = 'transcript_id \"{}\"; gene_id \"{}\"; gene_name \"{}\";'.format(transcript_id, gene_id, gene_name)\n",
    "        \n",
    "        line_items= [feature.seqid,\n",
    "        feature.source,\n",
    "        feature.featuretype,\n",
    "        str(feature.start),\n",
    "        str(feature.end),\n",
    "        feature.score, \n",
    "        feature.strand,\n",
    "        str(feature.frame), \n",
    "        attributes]\n",
    "\n",
    "        line = '\\t'.join(line_items) + '\\n'\n",
    "        fout.write(line)"
   ]
  },
  {
   "cell_type": "code",
   "execution_count": 94,
   "metadata": {},
   "outputs": [],
   "source": [
    "gtf_unsorted_db.conn.close()"
   ]
  },
  {
   "cell_type": "code",
   "execution_count": 95,
   "metadata": {},
   "outputs": [
    {
     "name": "stderr",
     "output_type": "stream",
     "text": [
      "13084 of 13216 (99%)\r"
     ]
    }
   ],
   "source": [
    "#Open new gff\n",
    "fname_out_unsorted_4FP = genome_dir + os.sep + 'saccharomyces_cerevisiae_R64-2-1_20150113_UTRs_pelechano_cellranger_4FP_unsorted_4FP.gtf'\n",
    "gtf_unsorted_db_fname = genome_dir + os.sep + 'saccharomyces_cerevisiae_R64-2-1_20150113_UTRs_pelechano_cellranger_4FP_unsorted_4FP.db'\n",
    "gtf_unsorted_db= gffutils.create_db(fname_out_unsorted_4FP, gtf_unsorted_db_fname, force =True)\n",
    "#sc_pel_max_gtf_db = gffutils.FeatureDB(sc_pel_max_gtf_fname) \n",
    "\n",
    "#Sort gff\n",
    "\n",
    "#convert to gtf\n",
    "\n"
   ]
  },
  {
   "cell_type": "code",
   "execution_count": 96,
   "metadata": {},
   "outputs": [],
   "source": [
    "with open(fname_out, 'w') as outfile:\n",
    "    #outfile.write('\\n')\n",
    "    for feature in gtf_unsorted_db.all_features(order_by = ('seqid','start','featuretype')):\n",
    "         print(feature,file=outfile)"
   ]
  },
  {
   "cell_type": "code",
   "execution_count": null,
   "metadata": {},
   "outputs": [],
   "source": [
    "# #Add 4FP features\n",
    "\n",
    "# cds_utr3p = gffutils.Feature(seqid=seqid, \n",
    "#                              source = 'Heineike_2020',\n",
    "#                              featuretype = 'CDS_3pUTR',\n",
    "#                              start = coords[0],\n",
    "#                              end = coords[1],\n",
    "#                              strand = strand,\n",
    "#                              frame = '.', \n",
    "#                              attributes = {'ID': [genename + '_CDS_3pUTR.long'], \n",
    "#                                            'Parent': [genename], \n",
    "#                                            'utr': [utr_flag]  \n",
    "#                                           }\n",
    "#                                    )"
   ]
  },
  {
   "cell_type": "code",
   "execution_count": null,
   "metadata": {},
   "outputs": [],
   "source": [
    "# merged_db = gffutils.create_db(merged_fn, dbfn=genome_assy_dir + os.sep + sc_ref_base + '_tifs.db', \n",
    "#                                id_spec=('ID', 'Name'), \n",
    "#                                merge_strategy='error', \n",
    "#                                force=True,  #makes new database\n",
    "#                                #keep_order=True, see no reason to keep this\n",
    "#                                force_gff = True)"
   ]
  },
  {
   "cell_type": "code",
   "execution_count": 97,
   "metadata": {},
   "outputs": [],
   "source": [
    "# transcript_id = feature.attributes['ID'][0]\n",
    "# gene_id = feature.attributes['Parent'][0]\n",
    "# gene_name = SC_common_name_lookup(feature.attributes['Parent'][0], SC_genename_lookup)\n",
    "\n",
    "# attributes = 'transcript_id \"{}\"; gene_id \"{}\"; gene_name \"{}\";'.format(transcript_id, gene_id, gene_name)\n",
    "\n",
    "# line_items= [feature.seqid,\n",
    "# feature.source,\n",
    "# feature.featuretype,\n",
    "# str(feature.start),\n",
    "# str(feature.end),\n",
    "# feature.score, \n",
    "# feature.strand,\n",
    "# str(feature.frame), \n",
    "# attributes]\n",
    "\n",
    "\n",
    "\n",
    "# '\\t'.join(line_items) + '\\n'\n",
    "# #feature.attributes"
   ]
  }
 ],
 "metadata": {
  "kernelspec": {
   "display_name": "Python 3",
   "language": "python",
   "name": "python3"
  },
  "language_info": {
   "codemirror_mode": {
    "name": "ipython",
    "version": 3
   },
   "file_extension": ".py",
   "mimetype": "text/x-python",
   "name": "python",
   "nbconvert_exporter": "python",
   "pygments_lexer": "ipython3",
   "version": "3.7.9"
  }
 },
 "nbformat": 4,
 "nbformat_minor": 4
}
